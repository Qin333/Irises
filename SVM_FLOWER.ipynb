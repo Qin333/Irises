{
 "cells": [
  {
   "cell_type": "code",
   "execution_count": 1,
   "metadata": {},
   "outputs": [
    {
     "name": "stderr",
     "output_type": "stream",
     "text": [
      "c:\\users\\lenovo\\appdata\\local\\programs\\python\\python37-32\\lib\\site-packages\\ipykernel_launcher.py:151: RuntimeWarning: divide by zero encountered in double_scalars\n"
     ]
    },
    {
     "name": "stdout",
     "output_type": "stream",
     "text": [
      "测试集准确率： 1.0\n"
     ]
    }
   ],
   "source": [
    "import numpy as np\n",
    "import pandas as pd\n",
    "from sklearn.datasets import load_iris\n",
    "from sklearn.model_selection import train_test_split\n",
    "from sklearn.metrics import accuracy_score\n",
    "import matplotlib.pyplot as plt\n",
    "\n",
    "from IPython.core import debugger\n",
    "debug = debugger.Pdb().set_trace\n",
    "\n",
    "%matplotlib inline\n",
    "\n",
    "\n",
    "# 训练给定数据集，并测试和可视化结果。\n",
    "\n",
    "\n",
    "# 鸢尾花(iris)数据集\n",
    "# 数据集内包含 3 类共 150 条记录，每类各 50 个数据，\n",
    "# 每条记录都有 4 项特征：花萼长度、花萼宽度、花瓣长度、花瓣宽度，\n",
    "# 可以通过这4个特征预测鸢尾花卉属于（iris-setosa, iris-versicolour, iris-virginica）中的哪一品种。\n",
    "# 这里只取前100条记录，两项特征，两个类别。\n",
    "def create_data():\n",
    "    iris = load_iris()\n",
    "    df = pd.DataFrame(iris.data, columns=iris.feature_names)\n",
    "    df['label'] = iris.target\n",
    "    df.columns = ['sepal length', 'sepal width', 'petal length', 'petal width', 'label']\n",
    "    data = np.array(df.iloc[:100, [0, 1, -1]])\n",
    "    for i in range(len(data)):\n",
    "        if data[i,-1] == 0:\n",
    "            data[i,-1] = -1\n",
    "    # print(data)\n",
    "    return data[:,:2], data[:,-1]\n",
    "\n",
    "\n",
    "X, y = create_data()\n",
    "X_train, X_test, y_train, y_test = train_test_split(X, y, test_size=0.2, random_state=65)\n",
    "\n",
    "\n",
    "\n",
    "class SVM(object):\n",
    "\n",
    "    def __init__(self, kernel='linear', epsilon=0.001, C=1, Max_Interation=5000):\n",
    "        self.kernel = kernel\n",
    "        self.epsilon = epsilon\n",
    "        self.C = C\n",
    "        self.Max_Interation = Max_Interation\n",
    "\n",
    "    def _init_parameters(self, features, labels):\n",
    "        # 参数初始化\n",
    "        self.X = features\n",
    "        self.Y = labels\n",
    "\n",
    "        self.b = 0.0\n",
    "        self.n = len(features[0])\n",
    "        self.N = len(features)\n",
    "        self.alpha = [0.0] * self.N\n",
    "        self.E = [self._E_(i) for i in range(self.N)]\n",
    "\n",
    "    #kkt条件\n",
    "    def _satisfy_KKT(self, i):\n",
    "        ygx = self.Y[i] * self._g_(i)\n",
    "        if abs(self.alpha[i])<self.epsilon:\n",
    "            return ygx >= 1\n",
    "        elif abs(self.alpha[i]-self.C)<self.epsilon:\n",
    "            return ygx <= 1\n",
    "        else:\n",
    "            return abs(ygx-1) < self.epsilon\n",
    "\n",
    "    #停止条件\n",
    "    def is_stop(self):\n",
    "        for i in range(self.N):\n",
    "            satisfy = self._satisfy_KKT(i)\n",
    "            if not satisfy:\n",
    "                return False\n",
    "        return True\n",
    "\n",
    "    def _select_two_parameters(self):\n",
    "        # 选择两个变量\n",
    "        index_list = [i for i in range(self.N)]\n",
    "\n",
    "        i1_list_1 = list(filter(lambda i: self.alpha[i] > 0 and self.alpha[i] < self.C, index_list))\n",
    "        i1_list_2 = list(set(index_list) - set(i1_list_1))\n",
    "\n",
    "        i1_list = i1_list_1\n",
    "        i1_list.extend(i1_list_2)\n",
    "\n",
    "        for i in i1_list:\n",
    "            if self._satisfy_KKT(i):\n",
    "                continue\n",
    "\n",
    "            E1 = self.E[i]\n",
    "            max_ = (0, 0)\n",
    "\n",
    "            for j in index_list:\n",
    "                if i == j:\n",
    "                    continue\n",
    "\n",
    "                E2 = self.E[j]\n",
    "                if abs(E1 - E2) > max_[0]:\n",
    "                    max_ = (abs(E1 - E2), j)\n",
    "            return i, max_[1]\n",
    "\n",
    "    def _K_(self, x1, x2):\n",
    "        # 核函数\n",
    "        if self.kernel == 'linear':\n",
    "            return sum([x1[k] * x2[k] for k in range(self.n)])\n",
    "        if self.kernel == 'poly':\n",
    "            return (sum([x1[k] * x2[k] for k in range(self.n)])+1)**3\n",
    "        print('没有定义核函数')\n",
    "        return 0\n",
    "\n",
    "    def _g_(self, i):\n",
    "        # g(X[i])\n",
    "        result = self.b\n",
    "\n",
    "        for j in range(self.N):\n",
    "            result += self.alpha[j] * self.Y[j] * self._K_(self.X[i], self.X[j])\n",
    "        return result\n",
    "\n",
    "    def _E_(self, i):\n",
    "        # E(i)\n",
    "        return self._g_(i) - self.Y[i]\n",
    "    \n",
    "    def clip_LH(self, _alpha, L, H):\n",
    "        if _alpha > H:\n",
    "            return H\n",
    "        elif _alpha < L:\n",
    "            return L\n",
    "        else:\n",
    "            return _alpha  \n",
    "        \n",
    "    def thresh_LH(self, i1, i2):\n",
    "        if self.Y[i1] == self.Y[i2]:\n",
    "            L = max(0, self.alpha[i2] + self.alpha[i1] - self.C)\n",
    "            H = min(self.C, self.alpha[i2] + self.alpha[i1])\n",
    "        else:\n",
    "            L = max(0, self.alpha[i2] - self.alpha[i1])\n",
    "            H = min(self.C, self.C + self.alpha[i2] - self.alpha[i1])\n",
    "        return L, H\n",
    "\n",
    "\n",
    "    def train(self, features, labels):\n",
    "\n",
    "        self._init_parameters(features, labels)\n",
    "\n",
    "        for times in range(self.Max_Interation):\n",
    "\n",
    "            # 启发式的选取两个样本index。\n",
    "            i1, i2 = self._select_two_parameters()\n",
    "            \n",
    "            eta = self._K_(self.X[i1], self.X[i1]) + self._K_(self.X[i2], self.X[i2]) - 2 * self._K_(self.X[i1], self.X[i2]) \n",
    "\n",
    "            alpha2_new_unc =  self.alpha[i2] + self.Y[i2] * (self.E[i1] - self.E[i2]) / eta  # ???   a2_new_unc 如何计算\n",
    "            \n",
    "            L,H = self.thresh_LH(i1,i2)\n",
    "            \n",
    "            alpha2_new = self.clip_LH(alpha2_new_unc, L, H)   # ??? 剪切到合法区间  \n",
    "            \n",
    "            alpha1_new = self.alpha[i1] + self.Y[i1] * self.Y[i2] * (self.alpha[i2] - alpha2_new) # ??? 根据a1y1+a2y2=sigma，得到a1_new。\n",
    "\n",
    "            b1_new = -self.E[i1] - self.Y[i1] * self._K_(self.X[i1], self.X[i1]) * (alpha1_new - self.alpha[i1]) - self.Y[i2] * self._K_(self.X[i2], self.X[i1]) * (alpha2_new - self.alpha[i2]) + self.b    # ??? 根据a1计算的b1\n",
    "            b2_new = -self.E[i2] - self.Y[i1] * self._K_(self.X[i1], self.X[i2]) * (alpha1_new - self.alpha[i1]) - self.Y[i2] * self._K_(self.X[i2], self.X[i2]) * (alpha2_new - self.alpha[i2]) + self.b    # ??? 根据a2计算的b1\n",
    "\n",
    "            if alpha1_new > 0 and alpha1_new < self.C:\n",
    "                b_new = b1_new\n",
    "            elif alpha2_new > 0 and alpha2_new < self.C:\n",
    "                b_new = b2_new\n",
    "            else:\n",
    "                b_new = (b1_new + b2_new) / 2\n",
    "\n",
    "            # 更新a、b和E \n",
    "            self.alpha[i1] = alpha1_new\n",
    "            self.alpha[i2] = alpha2_new\n",
    "            self.b = b_new\n",
    "\n",
    "            self.E[i1] = self._E_(i1)\n",
    "            self.E[i2] = self._E_(i2)\n",
    "        # print([int(i) for i in self.alpha])\n",
    "        return 'train done!'\n",
    "\n",
    "    def _predict_(self,feature):\n",
    "        result = self.b\n",
    "\n",
    "        for i in range(self.N):\n",
    "            result += self.alpha[i]*self.Y[i]*self._K_(feature,self.X[i])\n",
    "\n",
    "        if result > 0:\n",
    "            return 1\n",
    "        return -1\n",
    "\n",
    "    def predict(self,features):\n",
    "        results = []\n",
    "\n",
    "        for feature in features:\n",
    "            results.append(self._predict_(feature))\n",
    "\n",
    "        return results\n",
    "\n",
    "svm = SVM()\n",
    "svm.train(X_train, y_train)\n",
    "test_predict = svm.predict(X_test)\n",
    "score = accuracy_score(y_test,test_predict)\n",
    "print('测试集准确率：',score) # 测试集准确率\n"
   ]
  },
  {
   "cell_type": "markdown",
   "metadata": {},
   "source": [
    "## 可视化以上优化好的分类超平面和间隔界面，把支持向量也标注进来。"
   ]
  },
  {
   "cell_type": "code",
   "execution_count": 2,
   "metadata": {
    "scrolled": true
   },
   "outputs": [
    {
     "data": {
      "text/plain": [
       "<matplotlib.collections.PathCollection at 0x1ba617d0>"
      ]
     },
     "execution_count": 2,
     "metadata": {},
     "output_type": "execute_result"
    },
    {
     "data": {
      "image/png": "[encoded data removed]",
      "text/plain": [
       "<Figure size 432x288 with 1 Axes>"
      ]
     },
     "metadata": {
      "needs_background": "light"
     },
     "output_type": "display_data"
    }
   ],
   "source": [
    "# 可视化以上优化好的分类超平面和间隔界面，把支持向量也标注来。\n",
    "\n",
    "x = np.linspace(4, 7)\n",
    "b = svm.b\n",
    "w = 0\n",
    "\n",
    "for i in range(svm.N):\n",
    "    w += svm.alpha[i] * svm.Y[i] * svm.X[i]      #y = w1x1 + w2x2 + b\n",
    "\n",
    "y = (-b-w[0]*x)/w[1]         #y=0时位于超平面上\n",
    "y_low = (-1-b-w[0]*x)/w[1]     #y=-1时位于下间隔边界\n",
    "y_up = (1-b-w[0]*x)/w[1]       #y=1时位于上间隔边界\n",
    "\n",
    "plt.plot(x,y,'-')\n",
    "plt.plot(x,y_up,'--')\n",
    "plt.plot(x,y_low,'--')\n",
    "plt.scatter(X_train[y_train==1,0], X_train[y_train==1,1], marker='o', label='1')\n",
    "plt.scatter(X_train[y_train==-1,0], X_train[y_train==-1,1], marker='o', label='-1')\n",
    "plt.scatter(X_test[y_test==1,0], X_test[y_test==1,1], marker='x')\n",
    "plt.scatter(X_test[y_test==-1,0], X_test[y_test==-1,1], marker='x')"
   ]
  },
  {
   "cell_type": "markdown",
   "metadata": {},
   "source": [
    "## 标注支持向量"
   ]
  },
  {
   "cell_type": "code",
   "execution_count": 3,
   "metadata": {},
   "outputs": [
    {
     "name": "stdout",
     "output_type": "stream",
     "text": [
      "测试集准确率： 1.0\n"
     ]
    },
    {
     "data": {
      "image/png": "[encoded data removed]",
      "text/plain": [
       "<Figure size 432x288 with 1 Axes>"
      ]
     },
     "metadata": {
      "needs_background": "light"
     },
     "output_type": "display_data"
    }
   ],
   "source": [
    "# 标注支持向量。\n",
    "\n",
    "import numpy as np\n",
    "import pandas as pd\n",
    "from sklearn.svm import SVC\n",
    "from sklearn.datasets import load_iris\n",
    "from sklearn.preprocessing import StandardScaler\n",
    "from sklearn.model_selection import GridSearchCV, train_test_split\n",
    "from sklearn.metrics import accuracy_score\n",
    "import matplotlib.pyplot as plt\n",
    "\n",
    "\n",
    "#获取数据函数   \n",
    "def create_data():\n",
    "    iris = load_iris()\n",
    "    df = pd.DataFrame(iris.data, columns=iris.feature_names)\n",
    "    df['label'] = iris.target\n",
    "    df.columns = ['sepal length', 'sepal width', 'petal length', 'petal width', 'label']\n",
    "    data = np.array(df.iloc[:100, [0, 1, -1]])\n",
    "    for i in range(len(data)):\n",
    "        if data[i,-1] == 0:\n",
    "            data[i,-1] = -1\n",
    "    # print(data)\n",
    "    return data[:,:2], data[:,-1]\n",
    "\n",
    "X, y = create_data()\n",
    "X_train, X_test, y_train, y_test = train_test_split(X, y, test_size=0.65, random_state=65)\n",
    "\n",
    "svm_sk = SVC(kernel='linear',C=1,shrinking=True,max_iter=5000)\n",
    "svm_sk.fit(X_train, y_train)\n",
    "test_predict = svm_sk.predict(X_test)\n",
    "score = accuracy_score(y_test,test_predict)\n",
    "print('测试集准确率：',score) # 测试集准确率\n",
    "\n",
    "w = svm_sk.coef_[0]  \n",
    "b = svm_sk.intercept_[0]  \n",
    "\n",
    "x2 = np.linspace(4, 7)   #y = w1x1 + w2x2 + b\n",
    "y2 = (-b-w[0]*x2)/w[1]     #y=0时位于超平面上\n",
    "y2_low = (-1-b-w[0]*x2)/w[1]     #y=-1时位于下间隔边界\n",
    "y2_up = (1-b-w[0]*x2)/w[1]       #y=1时位于上间隔边界\n",
    "plt.plot(x2,y2,'-')\n",
    "plt.plot(x2,y2_up,'--')\n",
    "plt.plot(x2,y2_low,'--')\n",
    "\n",
    "#画出支持向量点\n",
    "plt.scatter(svm_sk.support_vectors_[:,0], svm_sk.support_vectors_[:,1],\n",
    "s=150,facecolors = 'none', edgecolors='k')\n",
    "\n",
    "plt.scatter(X_train[y_train==1,0], X_train[y_train==1,1], marker='o', label='1')\n",
    "plt.scatter(X_train[y_train==-1,0], X_train[y_train==-1,1], marker='o', label='-1')\n",
    "plt.scatter(X_test[y_test==1,0], X_test[y_test==1,1], marker='x')\n",
    "plt.scatter(X_test[y_test==-1,0], X_test[y_test==-1,1], marker='x')\n",
    "\n",
    "# 绘制平面图\n",
    "plt.axis('tight')\n",
    "plt.show()"
   ]
  },
  {
   "cell_type": "code",
   "execution_count": null,
   "metadata": {},
   "outputs": [],
   "source": []
  }
 ],
 "metadata": {
  "kernelspec": {
   "display_name": "Python 3",
   "language": "python",
   "name": "python3"
  },
  "language_info": {
   "codemirror_mode": {
    "name": "ipython",
    "version": 3
   },
   "file_extension": ".py",
   "mimetype": "text/x-python",
   "name": "python",
   "nbconvert_exporter": "python",
   "pygments_lexer": "ipython3",
   "version": "3.7.4"
  },
  "pycharm": {
   "stem_cell": {
    "cell_type": "raw",
    "source": [
     "                                                                                                                                                   #%% md\n",
     "\n",
     "## 实现\n"
    ],
    "metadata": {
     "collapsed": false
    }
   }
  }
 },
 "nbformat": 4,
 "nbformat_minor": 2
}